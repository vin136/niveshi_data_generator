{
 "cells": [
  {
   "cell_type": "markdown",
   "metadata": {},
   "source": [
    "* Data == (General trend +/* Seasonality +/* Cyclical movements +/* Unexpected variations : Unexpected variations are stochastic and cannot be framed in a mathematical model for a definitive future prediction. This type of error is due to lack of information about explanatory variables that can model these variations or due to presence of a random noise.)\n",
    "\n",
    "* Unlike general time series data where we can look for seasonality and Cyclical movements for accurate modeling...here it is error prone .... .. "
   ]
  },
  {
   "cell_type": "markdown",
   "metadata": {},
   "source": [
    "# Data generation by capturing the 'trend' and varying the 'noise' :\n",
    "\n",
    "\n",
    "* ### Our data can be seen as TREND + NOISE \n",
    "* ### Ideally we want to vary the 'noise' without effecting the underlying 'trend'\n",
    "* ### But,theoritically what is 'trend' and 'noise'\n",
    "* ### Any data/information that does not have predictive power is noise.So what constitutes as 'noise' depends on what we are trying to predict.(like milli sec price variations constitute as noise if we are trading at hourly/daily.)So for iterative methods like 'deep learning' each time we pass the data we can show different versions of data in each keeping the trend same but varying degree /and distribution of noise.\n",
    "\n",
    "* ### Say ,We used some machine learning model to fit the data and then add noise on top of it(this includes unsupervised/semisupervised models too) to model the data generation process and used that data for training an RL algorithm..we are in essence feeding the information captured by a less powerful/predictive model which is plain stupid.If we are using a complex(more representative) data generation process like conditional GAN'S we lose interpretability.\n",
    "\n",
    "\n",
    "* ### To split a give data into TREND + NOISE we need to formulate it as machine learning problem....say we split the data into train,valid,test and get the best model(one that hopefully captured the 'trend') but the whole point is all the conventional models don't fare well in capturing this 'trend'.\n",
    "\n",
    "* ### But,to fit the data we don't need complex models...it's important to understand that a model that has enough capacity to perfectly fit the data might not be complex enough to model the structure of data(generalizability).\n",
    "\n",
    "\n",
    "\n"
   ]
  },
  {
   "cell_type": "markdown",
   "metadata": {},
   "source": [
    "## key idea:\n",
    "\n",
    "### Since we realized how explicitly trying to model the 'trend' and thereby 'noise' is not the way to go for data generation.\n",
    "\n",
    "* so we can choose slightly different ways to fit the curves each modeling the noise differently implicitly.\n",
    "* We can make different models that are simple enough but can almost fit the data(note: we are not doing machine learning here...no learning..aka generalization happening here).This way we can ensure that our slightly different versions of the data will force our RL algorithm to learn the invariant structure.\n",
    "\n",
    "* In fact this process is routinely done in Computer Vision to make the model robust.But,identifying invariant transformations(like centercrop,horizontalflip,randomjitter...) is easier there as we can perceive the data easily which is not the case here.\n"
   ]
  },
  {
   "cell_type": "code",
   "execution_count": 10,
   "metadata": {},
   "outputs": [],
   "source": [
    "\n",
    "# Function for Sigle exponential smoothing\n",
    "# def single_exp_smoothing(x, alpha):\n",
    "#     F = [x[0]] # first value is same as series\n",
    "#     for t in range(1, len(x)):\n",
    "#         F.append(alpha * x[t] + (1 - alpha) * F[t-1])\n",
    "#     return F\n",
    "\n",
    "# NOTE: THE ABOVE FUNCTION....WILL NOT WORK FOR OBVIOUS REASONS..\n",
    "\n",
    "# Here our model assumes that all values are result of some trend + first_order approxi\n",
    "# let's say: X(t+1) = F(t) + T(t)\n",
    "# F(t+1) = alpha*x(t) + (1-alpha)*(F(t-1))\n",
    "#T(t+1) = beta*(F(t) - F(t-1)) + (1-beta)*T(t-1)\n",
    "# intital value of trend is captured by x(1)  - x(0)\n",
    "def double_exp_smoothing(x, alpha=0.8, beta=0.5):#here we are choosing higher alpha to have a better fit...note all\n",
    "# methods can be seen as adding different types of noise but implicitly through curve fitting.\n",
    "    yhat = [x.iloc[0]] # first value is same as series\n",
    "    for t in range(1, len(x)):\n",
    "        if t==1:\n",
    "            F, T= x[0], x[1] - x[0]\n",
    "        F_n_1, F = F, alpha*x[t] + (1-alpha)*(F+T)\n",
    "        T=beta*(F-F_n_1)+(1-beta)*T\n",
    "        yhat.append(F+T)\n",
    "    return pd.Series(yhat,index = x.index)\n",
    "\n",
    "\n",
    "\n",
    "def goodness_fit(fit,orginal):\n",
    "    return (fit-orginal).sum()/len(fit)"
   ]
  },
  {
   "cell_type": "code",
   "execution_count": 3,
   "metadata": {},
   "outputs": [],
   "source": [
    "import pandas as pd\n",
    "data = pd.read_csv('data.csv',index_col = ['DateTime'],infer_datetime_format=True,parse_dates=['DateTime'])"
   ]
  },
  {
   "cell_type": "code",
   "execution_count": 4,
   "metadata": {},
   "outputs": [
    {
     "data": {
      "text/html": [
       "<div>\n",
       "<style scoped>\n",
       "    .dataframe tbody tr th:only-of-type {\n",
       "        vertical-align: middle;\n",
       "    }\n",
       "\n",
       "    .dataframe tbody tr th {\n",
       "        vertical-align: top;\n",
       "    }\n",
       "\n",
       "    .dataframe thead th {\n",
       "        text-align: right;\n",
       "    }\n",
       "</style>\n",
       "<table border=\"1\" class=\"dataframe\">\n",
       "  <thead>\n",
       "    <tr style=\"text-align: right;\">\n",
       "      <th></th>\n",
       "      <th>BANKBARODA_0</th>\n",
       "      <th>BANKBARODA_1</th>\n",
       "      <th>BANKBARODA_2</th>\n",
       "      <th>BANKBARODA_3</th>\n",
       "      <th>BANKBARODA_4</th>\n",
       "      <th>CANARABANK_0</th>\n",
       "      <th>CANARABANK_1</th>\n",
       "      <th>CANARABANK_2</th>\n",
       "      <th>CANARABANK_3</th>\n",
       "      <th>CANARABANK_4</th>\n",
       "      <th>...</th>\n",
       "      <th>SBI_0</th>\n",
       "      <th>SBI_1</th>\n",
       "      <th>SBI_2</th>\n",
       "      <th>SBI_3</th>\n",
       "      <th>SBI_4</th>\n",
       "      <th>PNB_0</th>\n",
       "      <th>PNB_1</th>\n",
       "      <th>PNB_2</th>\n",
       "      <th>PNB_3</th>\n",
       "      <th>PNB_4</th>\n",
       "    </tr>\n",
       "    <tr>\n",
       "      <th>DateTime</th>\n",
       "      <th></th>\n",
       "      <th></th>\n",
       "      <th></th>\n",
       "      <th></th>\n",
       "      <th></th>\n",
       "      <th></th>\n",
       "      <th></th>\n",
       "      <th></th>\n",
       "      <th></th>\n",
       "      <th></th>\n",
       "      <th></th>\n",
       "      <th></th>\n",
       "      <th></th>\n",
       "      <th></th>\n",
       "      <th></th>\n",
       "      <th></th>\n",
       "      <th></th>\n",
       "      <th></th>\n",
       "      <th></th>\n",
       "      <th></th>\n",
       "      <th></th>\n",
       "    </tr>\n",
       "  </thead>\n",
       "  <tbody>\n",
       "    <tr>\n",
       "      <th>2017-04-01 11:06:00</th>\n",
       "      <td>148.9</td>\n",
       "      <td>148.9</td>\n",
       "      <td>148.9</td>\n",
       "      <td>148.9</td>\n",
       "      <td>3500</td>\n",
       "      <td>262.90</td>\n",
       "      <td>262.90</td>\n",
       "      <td>262.85</td>\n",
       "      <td>262.85</td>\n",
       "      <td>9000</td>\n",
       "      <td>...</td>\n",
       "      <td>245.05</td>\n",
       "      <td>245.2</td>\n",
       "      <td>245.05</td>\n",
       "      <td>245.10</td>\n",
       "      <td>36000</td>\n",
       "      <td>8208.0</td>\n",
       "      <td>8208.9</td>\n",
       "      <td>8206.90</td>\n",
       "      <td>8207.05</td>\n",
       "      <td>8625</td>\n",
       "    </tr>\n",
       "    <tr>\n",
       "      <th>2017-04-01 11:07:00</th>\n",
       "      <td>148.8</td>\n",
       "      <td>148.9</td>\n",
       "      <td>148.8</td>\n",
       "      <td>148.9</td>\n",
       "      <td>7000</td>\n",
       "      <td>262.75</td>\n",
       "      <td>262.75</td>\n",
       "      <td>262.75</td>\n",
       "      <td>262.75</td>\n",
       "      <td>3000</td>\n",
       "      <td>...</td>\n",
       "      <td>245.10</td>\n",
       "      <td>245.1</td>\n",
       "      <td>245.05</td>\n",
       "      <td>245.05</td>\n",
       "      <td>27000</td>\n",
       "      <td>8207.1</td>\n",
       "      <td>8208.0</td>\n",
       "      <td>8205.95</td>\n",
       "      <td>8206.15</td>\n",
       "      <td>8850</td>\n",
       "    </tr>\n",
       "  </tbody>\n",
       "</table>\n",
       "<p>2 rows × 25 columns</p>\n",
       "</div>"
      ],
      "text/plain": [
       "                     BANKBARODA_0  BANKBARODA_1  BANKBARODA_2  BANKBARODA_3  \\\n",
       "DateTime                                                                      \n",
       "2017-04-01 11:06:00         148.9         148.9         148.9         148.9   \n",
       "2017-04-01 11:07:00         148.8         148.9         148.8         148.9   \n",
       "\n",
       "                     BANKBARODA_4  CANARABANK_0  CANARABANK_1  CANARABANK_2  \\\n",
       "DateTime                                                                      \n",
       "2017-04-01 11:06:00          3500        262.90        262.90        262.85   \n",
       "2017-04-01 11:07:00          7000        262.75        262.75        262.75   \n",
       "\n",
       "                     CANARABANK_3  CANARABANK_4  ...     SBI_0  SBI_1   SBI_2  \\\n",
       "DateTime                                         ...                            \n",
       "2017-04-01 11:06:00        262.85          9000  ...    245.05  245.2  245.05   \n",
       "2017-04-01 11:07:00        262.75          3000  ...    245.10  245.1  245.05   \n",
       "\n",
       "                      SBI_3  SBI_4   PNB_0   PNB_1    PNB_2    PNB_3  PNB_4  \n",
       "DateTime                                                                     \n",
       "2017-04-01 11:06:00  245.10  36000  8208.0  8208.9  8206.90  8207.05   8625  \n",
       "2017-04-01 11:07:00  245.05  27000  8207.1  8208.0  8205.95  8206.15   8850  \n",
       "\n",
       "[2 rows x 25 columns]"
      ]
     },
     "execution_count": 4,
     "metadata": {},
     "output_type": "execute_result"
    }
   ],
   "source": [
    "data.head(2)"
   ]
  },
  {
   "cell_type": "code",
   "execution_count": 19,
   "metadata": {},
   "outputs": [],
   "source": [
    "new_data  = data.copy()"
   ]
  },
  {
   "cell_type": "code",
   "execution_count": 37,
   "metadata": {},
   "outputs": [],
   "source": [
    "def gen_data(df,base,*rest):\n",
    "    df[base] = double_exp_smoothing(df[base])\n",
    "    errors = data[base]-df[base]\n",
    "    for col in rest:\n",
    "        df[col] = data[col] + errors\n",
    "        \n",
    "def goodness_fit(fit,orginal):\n",
    "    return (fit-orginal).sum()/len(fit)        \n",
    "    "
   ]
  },
  {
   "cell_type": "code",
   "execution_count": 23,
   "metadata": {},
   "outputs": [],
   "source": [
    "gen_data(new_data,'BANKBARODA_2','BANKBARODA_0', 'BANKBARODA_1','BANKBARODA_3')\n",
    "\n"
   ]
  },
  {
   "cell_type": "code",
   "execution_count": 27,
   "metadata": {},
   "outputs": [],
   "source": [
    "gen_data(new_data,'CANARABANK_2','CANARABANK_0','CANARABANK_1','CANARABANK_3')"
   ]
  },
  {
   "cell_type": "code",
   "execution_count": 29,
   "metadata": {},
   "outputs": [],
   "source": [
    "gen_data(new_data,'SBI_2','SBI_0', 'SBI_1','SBI_3')\n"
   ]
  },
  {
   "cell_type": "code",
   "execution_count": 30,
   "metadata": {},
   "outputs": [],
   "source": [
    "gen_data(new_data,'PNB_2','PNB_0', 'PNB_1','PNB_3')"
   ]
  },
  {
   "cell_type": "code",
   "execution_count": 14,
   "metadata": {},
   "outputs": [
    {
     "data": {
      "text/html": [
       "<div>\n",
       "<style scoped>\n",
       "    .dataframe tbody tr th:only-of-type {\n",
       "        vertical-align: middle;\n",
       "    }\n",
       "\n",
       "    .dataframe tbody tr th {\n",
       "        vertical-align: top;\n",
       "    }\n",
       "\n",
       "    .dataframe thead th {\n",
       "        text-align: right;\n",
       "    }\n",
       "</style>\n",
       "<table border=\"1\" class=\"dataframe\">\n",
       "  <thead>\n",
       "    <tr style=\"text-align: right;\">\n",
       "      <th></th>\n",
       "      <th>BANKBARODA_0</th>\n",
       "      <th>BANKBARODA_1</th>\n",
       "      <th>BANKBARODA_2</th>\n",
       "      <th>BANKBARODA_3</th>\n",
       "      <th>BANKBARODA_4</th>\n",
       "      <th>CANARABANK_0</th>\n",
       "      <th>CANARABANK_1</th>\n",
       "      <th>CANARABANK_2</th>\n",
       "      <th>CANARABANK_3</th>\n",
       "      <th>CANARABANK_4</th>\n",
       "      <th>...</th>\n",
       "      <th>SBI_0</th>\n",
       "      <th>SBI_1</th>\n",
       "      <th>SBI_2</th>\n",
       "      <th>SBI_3</th>\n",
       "      <th>SBI_4</th>\n",
       "      <th>PNB_0</th>\n",
       "      <th>PNB_1</th>\n",
       "      <th>PNB_2</th>\n",
       "      <th>PNB_3</th>\n",
       "      <th>PNB_4</th>\n",
       "    </tr>\n",
       "    <tr>\n",
       "      <th>DateTime</th>\n",
       "      <th></th>\n",
       "      <th></th>\n",
       "      <th></th>\n",
       "      <th></th>\n",
       "      <th></th>\n",
       "      <th></th>\n",
       "      <th></th>\n",
       "      <th></th>\n",
       "      <th></th>\n",
       "      <th></th>\n",
       "      <th></th>\n",
       "      <th></th>\n",
       "      <th></th>\n",
       "      <th></th>\n",
       "      <th></th>\n",
       "      <th></th>\n",
       "      <th></th>\n",
       "      <th></th>\n",
       "      <th></th>\n",
       "      <th></th>\n",
       "      <th></th>\n",
       "    </tr>\n",
       "  </thead>\n",
       "  <tbody>\n",
       "    <tr>\n",
       "      <th>2017-04-01 11:06:00</th>\n",
       "      <td>148.9</td>\n",
       "      <td>148.9</td>\n",
       "      <td>148.9</td>\n",
       "      <td>148.9</td>\n",
       "      <td>3500</td>\n",
       "      <td>262.9</td>\n",
       "      <td>262.9</td>\n",
       "      <td>262.85</td>\n",
       "      <td>262.85</td>\n",
       "      <td>9000</td>\n",
       "      <td>...</td>\n",
       "      <td>245.05</td>\n",
       "      <td>245.2</td>\n",
       "      <td>245.05</td>\n",
       "      <td>245.1</td>\n",
       "      <td>36000</td>\n",
       "      <td>8208.0</td>\n",
       "      <td>8208.9</td>\n",
       "      <td>8206.9</td>\n",
       "      <td>8207.05</td>\n",
       "      <td>8625</td>\n",
       "    </tr>\n",
       "    <tr>\n",
       "      <th>2017-04-01 11:07:00</th>\n",
       "      <td>148.7</td>\n",
       "      <td>148.9</td>\n",
       "      <td>148.7</td>\n",
       "      <td>148.9</td>\n",
       "      <td>7000</td>\n",
       "      <td>262.6</td>\n",
       "      <td>262.6</td>\n",
       "      <td>262.65</td>\n",
       "      <td>262.65</td>\n",
       "      <td>3000</td>\n",
       "      <td>...</td>\n",
       "      <td>245.15</td>\n",
       "      <td>245.0</td>\n",
       "      <td>245.05</td>\n",
       "      <td>245.0</td>\n",
       "      <td>27000</td>\n",
       "      <td>8206.2</td>\n",
       "      <td>8207.1</td>\n",
       "      <td>8205.0</td>\n",
       "      <td>8205.25</td>\n",
       "      <td>8850</td>\n",
       "    </tr>\n",
       "  </tbody>\n",
       "</table>\n",
       "<p>2 rows × 25 columns</p>\n",
       "</div>"
      ],
      "text/plain": [
       "                     BANKBARODA_0  BANKBARODA_1  BANKBARODA_2  BANKBARODA_3  \\\n",
       "DateTime                                                                      \n",
       "2017-04-01 11:06:00         148.9         148.9         148.9         148.9   \n",
       "2017-04-01 11:07:00         148.7         148.9         148.7         148.9   \n",
       "\n",
       "                     BANKBARODA_4  CANARABANK_0  CANARABANK_1  CANARABANK_2  \\\n",
       "DateTime                                                                      \n",
       "2017-04-01 11:06:00          3500         262.9         262.9        262.85   \n",
       "2017-04-01 11:07:00          7000         262.6         262.6        262.65   \n",
       "\n",
       "                     CANARABANK_3  CANARABANK_4  ...     SBI_0  SBI_1   SBI_2  \\\n",
       "DateTime                                         ...                            \n",
       "2017-04-01 11:06:00        262.85          9000  ...    245.05  245.2  245.05   \n",
       "2017-04-01 11:07:00        262.65          3000  ...    245.15  245.0  245.05   \n",
       "\n",
       "                     SBI_3  SBI_4   PNB_0   PNB_1   PNB_2    PNB_3  PNB_4  \n",
       "DateTime                                                                   \n",
       "2017-04-01 11:06:00  245.1  36000  8208.0  8208.9  8206.9  8207.05   8625  \n",
       "2017-04-01 11:07:00  245.0  27000  8206.2  8207.1  8205.0  8205.25   8850  \n",
       "\n",
       "[2 rows x 25 columns]"
      ]
     },
     "execution_count": 14,
     "metadata": {},
     "output_type": "execute_result"
    }
   ],
   "source": [
    "new_data.head(2)"
   ]
  },
  {
   "cell_type": "markdown",
   "metadata": {},
   "source": [
    "# let's see how the data looks.."
   ]
  },
  {
   "cell_type": "code",
   "execution_count": 34,
   "metadata": {},
   "outputs": [
    {
     "data": {
      "text/plain": [
       "<matplotlib.axes._subplots.AxesSubplot at 0x7fe1e6babb38>"
      ]
     },
     "execution_count": 34,
     "metadata": {},
     "output_type": "execute_result"
    },
    {
     "data": {
      "image/png": "[encoded data removed]",
      "text/plain": [
       "<Figure size 432x288 with 1 Axes>"
      ]
     },
     "metadata": {
      "needs_background": "light"
     },
     "output_type": "display_data"
    }
   ],
   "source": [
    "new_data['BANKBARODA_0'].iloc[:100].plot()\n",
    "data['BANKBARODA_0'].iloc[:100].plot()"
   ]
  },
  {
   "cell_type": "markdown",
   "metadata": {},
   "source": [
    "# let's see how we have modeled 'noise'"
   ]
  },
  {
   "cell_type": "code",
   "execution_count": 35,
   "metadata": {},
   "outputs": [
    {
     "name": "stdout",
     "output_type": "stream",
     "text": [
      "mean= -0.003966119067278811\n",
      "std= 0.056729333105125616\n",
      "skewness= -1.0704254536462319\n",
      "kurtosis= 5.985661096807817\n"
     ]
    }
   ],
   "source": [
    "import numpy as np\n",
    "from scipy import stats\n",
    "error = new_data['BANKBARODA_0'].iloc[:1000] - data['BANKBARODA_0'].iloc[:1000]\n",
    "print('mean=', np.mean(error))\n",
    "print('std=',np.std(error))\n",
    "print('skewness=',stats.skew(error))\n",
    "print('kurtosis=',stats.kurtosis(error))"
   ]
  },
  {
   "cell_type": "code",
   "execution_count": 36,
   "metadata": {},
   "outputs": [
    {
     "name": "stderr",
     "output_type": "stream",
     "text": [
      "/home/vinay/anaconda3/envs/datascience/lib/python3.6/site-packages/scipy/stats/stats.py:1713: FutureWarning: Using a non-tuple sequence for multidimensional indexing is deprecated; use `arr[tuple(seq)]` instead of `arr[seq]`. In the future this will be interpreted as an array index, `arr[np.array(seq)]`, which will result either in an error or a different result.\n",
      "  return np.add.reduce(sorted[indexer] * weights, axis=axis) / sumval\n"
     ]
    },
    {
     "data": {
      "text/plain": [
       "<matplotlib.axes._subplots.AxesSubplot at 0x7fe1e4bed048>"
      ]
     },
     "execution_count": 36,
     "metadata": {},
     "output_type": "execute_result"
    },
    {
     "data": {
      "image/png": "[encoded data removed]",
      "text/plain": [
       "<Figure size 432x288 with 1 Axes>"
      ]
     },
     "metadata": {
      "needs_background": "light"
     },
     "output_type": "display_data"
    }
   ],
   "source": [
    "# THAT SHOWS WE HAVE LEFT SKEWNESS ... OTHERWISE PRETTY NORMAL DIST ... LET'S PLOT IT AND CONFIRM..\n",
    "\n",
    "import seaborn as sns\n",
    "sns.distplot(error) # Note only look at the shape not the 'y' values..they are scaled..."
   ]
  },
  {
   "cell_type": "markdown",
   "metadata": {},
   "source": [
    "# So,what we have done ?\n",
    "* Instead of creating/adding gaussian noise naively we are modeling noise based on a model.How and when(training/testing..) we can use this data depends on the algorithm we are using..(value,policy or hybrid..)...."
   ]
  },
  {
   "cell_type": "code",
   "execution_count": null,
   "metadata": {},
   "outputs": [],
   "source": [
    "# NOTE: ABOVE METHOD IS NOT THE ONLY WAY ... BUT WILL PARK IT ASIDE FOR A WHILE.."
   ]
  },
  {
   "cell_type": "code",
   "execution_count": 38,
   "metadata": {},
   "outputs": [
    {
     "data": {
      "text/plain": [
       "5.945212391034271e-05"
      ]
     },
     "execution_count": 38,
     "metadata": {},
     "output_type": "execute_result"
    }
   ],
   "source": [
    "# sanity check....\n",
    "goodness_fit(new_data['BANKBARODA_0'],data['BANKBARODA_0'])"
   ]
  },
  {
   "cell_type": "code",
   "execution_count": 39,
   "metadata": {},
   "outputs": [],
   "source": [
    "new_data.to_csv('new_data.csv')"
   ]
  },
  {
   "cell_type": "markdown",
   "metadata": {},
   "source": [
    "# ref :  Since our fundamental concern is limited data and making our model robust...i'm considering orthogonal approaches....along the directions of this paper...\n",
    "\n",
    "[MBVE: Augmenting real experiences with fictitious ones](https://arxiv.org/pdf/1803.00101.pdf)\n",
    "\n"
   ]
  },
  {
   "cell_type": "markdown",
   "metadata": {},
   "source": [
    "## OBVIOUSLY..A LOT OF OTHER APPROACHES ARE TRIED...I WOULD LATER DOCUMENT THEM MORE THOROUGHLY AS I FEEL THE PROCESS  IS STILL ONGOING BUT HERE ARE SOME OF THEM...\n",
    "\n",
    "## Since the whole idea is to explicitly model the data generation process and fitting the model on data as closely as possible .....for eg: say we know our data lies on a hyperplane but corrupted with some noise ...most sensible approach would be to formulate a regression problem and the error bars would correspond as 'noise' ...similarly in our case we should come up with an explicit model here are some others that have been tried/thought but abandoned:\n",
    "\n",
    "### General Note : Unfortunately, the presence of trend and seasonal variation can be hard to estimate and/or remove. The chief difficultly is that the underlying dynamics generating the data are unknown. Volumes have been written on how to “guesstimate” it, with little overall agreement on the optimal method.It is often very difficult to define trend and seasonality satisfactorily. Moreover, even if you can correctly identify the trend it is important to ensure the right sort of trend (global or local) is modeled. This is important because traditional statistical approaches require the specification of an assumed time-series model, such as auto-regressive models, Linear Dynamical Systems, or Hidden Markov Model.\n",
    "\n",
    "* Get a 'n' rolling window and formulate crazy functions\n",
    "* Similar to double_exponential..we can also try to model for cycles/seasonality by adding another variable...\n",
    "* Kalman filters\n",
    "* Fancy MA + AR....AKA arma methods\n",
    "* Can also make non-linear auto regressive models..."
   ]
  },
  {
   "cell_type": "code",
   "execution_count": null,
   "metadata": {},
   "outputs": [],
   "source": []
  }
 ],
 "metadata": {
  "kernelspec": {
   "display_name": "Python 3",
   "language": "python",
   "name": "python3"
  },
  "language_info": {
   "codemirror_mode": {
    "name": "ipython",
    "version": 3
   },
   "file_extension": ".py",
   "mimetype": "text/x-python",
   "name": "python",
   "nbconvert_exporter": "python",
   "pygments_lexer": "ipython3",
   "version": "3.6.6"
  }
 },
 "nbformat": 4,
 "nbformat_minor": 2
}
